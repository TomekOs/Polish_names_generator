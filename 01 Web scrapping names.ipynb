{
 "cells": [
  {
   "cell_type": "markdown",
   "metadata": {},
   "source": [
    "## Scrapping Polish names and its descriptions from Wikipedia"
   ]
  },
  {
   "cell_type": "markdown",
   "metadata": {},
   "source": [
    "Presented below code was used to web scrap Wikipedia for Polish names and its descriptions. To properly run scrapy, presented code below was placed in file: `01 Web scrapping\\scrap_wiki_names\\spiders\\Wiki names spider.py`. Details about web scrapping and Scrapy project are presented in `00 Project description.ipynb` file."
   ]
  },
  {
   "cell_type": "code",
   "execution_count": 1,
   "metadata": {},
   "outputs": [],
   "source": [
    "import scrapy\n",
    "\n",
    "class WikiNamesSpider(scrapy.Spider):\n",
    "    \n",
    "    # name of the Spider\n",
    "    name = \"wiki_names\"\n",
    "    \n",
    "    # Return Request object which will be parsed by function indicated in callback argument\n",
    "    def start_requests(self):\n",
    "        start_url = \"https://pl.wikipedia.org/wiki/Kategoria:Alfabetyczna_lista_imion\"\n",
    "        return [scrapy.Request(url=start_url, callback = self.parse_start_page)]\n",
    "    \n",
    "    # Follow links on initial Wikipedia site (page with letters of alphabet)\n",
    "    def parse_start_page(self, response):\n",
    "        for link in response.css(\"div.mw-category-group ul li a::attr(href)\").extract():\n",
    "            yield response.follow(link, callback = self.parse_letter_name_list)\n",
    "        \n",
    "    # Follow links on Wikipedia page with containing alphabetical list of names\n",
    "    def parse_letter_name_list(self, response):\n",
    "        for link in response.css(\"div.mw-parser-output ul li a::attr(href)\").extract():\n",
    "            yield response.follow(link, callback = self.parse_name_page)\n",
    "        \n",
    "    # Parse web pages containing description of each first name and return first name and content of first paragraph of text description of the name\n",
    "    def parse_name_page(self, response):\n",
    "        yield {\n",
    "                \"name\": response.css(\"h1.firstHeading::text\").extract(),\n",
    "                \"name_description\": response.xpath(\"string(//div[@class=\\\"mw-parser-output\\\"]/p[1])\").extract()\n",
    "        }"
   ]
  }
 ],
 "metadata": {
  "kernelspec": {
   "display_name": "Python 3",
   "language": "python",
   "name": "python3"
  },
  "language_info": {
   "codemirror_mode": {
    "name": "ipython",
    "version": 3
   },
   "file_extension": ".py",
   "mimetype": "text/x-python",
   "name": "python",
   "nbconvert_exporter": "python",
   "pygments_lexer": "ipython3",
   "version": "3.6.8"
  }
 },
 "nbformat": 4,
 "nbformat_minor": 2
}
